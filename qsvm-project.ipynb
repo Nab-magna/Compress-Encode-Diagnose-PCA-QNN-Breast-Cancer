{
 "cells": [
  {
   "cell_type": "code",
   "execution_count": 1,
   "id": "6e4f4d33",
   "metadata": {
    "_cell_guid": "b1076dfc-b9ad-4769-8c92-a6c4dae69d19",
    "_uuid": "8f2839f25d086af736a60e9eeb907d3b93b6e0e5",
    "execution": {
     "iopub.execute_input": "2025-04-10T18:14:12.690494Z",
     "iopub.status.busy": "2025-04-10T18:14:12.690292Z",
     "iopub.status.idle": "2025-04-10T18:15:29.980693Z",
     "shell.execute_reply": "2025-04-10T18:15:29.979711Z"
    },
    "papermill": {
     "duration": 77.295266,
     "end_time": "2025-04-10T18:15:29.982224",
     "exception": false,
     "start_time": "2025-04-10T18:14:12.686958",
     "status": "completed"
    },
    "tags": []
   },
   "outputs": [
    {
     "name": "stdout",
     "output_type": "stream",
     "text": [
      "Collecting pennylane-lightning-gpu\r\n",
      "  Downloading PennyLane_Lightning_GPU-0.40.0-cp311-cp311-manylinux_2_28_x86_64.whl.metadata (28 kB)\r\n",
      "Collecting pennylane>=0.37 (from pennylane-lightning-gpu)\r\n",
      "  Downloading PennyLane-0.40.0-py3-none-any.whl.metadata (10 kB)\r\n",
      "Collecting scipy-openblas32>=0.3.26 (from pennylane-lightning-gpu)\r\n",
      "  Downloading scipy_openblas32-0.3.29.0.0-py3-none-manylinux_2_17_x86_64.manylinux2014_x86_64.whl.metadata (56 kB)\r\n",
      "\u001b[2K     \u001b[90m━━━━━━━━━━━━━━━━━━━━━━━━━━━━━━━━━━━━━━━━\u001b[0m \u001b[32m56.1/56.1 kB\u001b[0m \u001b[31m4.0 MB/s\u001b[0m eta \u001b[36m0:00:00\u001b[0m\r\n",
      "\u001b[?25hCollecting custatevec-cu12 (from pennylane-lightning-gpu)\r\n",
      "  Downloading custatevec_cu12-1.8.0-py3-none-manylinux2014_x86_64.whl.metadata (2.5 kB)\r\n",
      "Requirement already satisfied: nvidia-nvjitlink-cu12 in /usr/local/lib/python3.11/dist-packages (from pennylane-lightning-gpu) (12.8.93)\r\n",
      "Requirement already satisfied: nvidia-cusparse-cu12 in /usr/local/lib/python3.11/dist-packages (from pennylane-lightning-gpu) (12.5.8.93)\r\n",
      "Requirement already satisfied: nvidia-cublas-cu12 in /usr/local/lib/python3.11/dist-packages (from pennylane-lightning-gpu) (12.8.4.1)\r\n",
      "Requirement already satisfied: nvidia-cuda-runtime-cu12 in /usr/local/lib/python3.11/dist-packages (from pennylane-lightning-gpu) (12.4.127)\r\n",
      "Collecting pennylane_lightning==0.40.0 (from pennylane-lightning-gpu)\r\n",
      "  Downloading PennyLane_Lightning-0.40.0-cp311-cp311-manylinux_2_28_x86_64.whl.metadata (27 kB)\r\n",
      "Requirement already satisfied: numpy<2.1 in /usr/local/lib/python3.11/dist-packages (from pennylane>=0.37->pennylane-lightning-gpu) (1.26.4)\r\n",
      "Requirement already satisfied: scipy in /usr/local/lib/python3.11/dist-packages (from pennylane>=0.37->pennylane-lightning-gpu) (1.15.2)\r\n",
      "Requirement already satisfied: networkx in /usr/local/lib/python3.11/dist-packages (from pennylane>=0.37->pennylane-lightning-gpu) (3.4.2)\r\n",
      "Collecting rustworkx>=0.14.0 (from pennylane>=0.37->pennylane-lightning-gpu)\r\n",
      "  Downloading rustworkx-0.16.0-cp39-abi3-manylinux_2_17_x86_64.manylinux2014_x86_64.whl.metadata (10 kB)\r\n",
      "Requirement already satisfied: autograd in /usr/local/lib/python3.11/dist-packages (from pennylane>=0.37->pennylane-lightning-gpu) (1.7.0)\r\n",
      "Collecting tomlkit (from pennylane>=0.37->pennylane-lightning-gpu)\r\n",
      "  Downloading tomlkit-0.13.2-py3-none-any.whl.metadata (2.7 kB)\r\n",
      "Collecting appdirs (from pennylane>=0.37->pennylane-lightning-gpu)\r\n",
      "  Downloading appdirs-1.4.4-py2.py3-none-any.whl.metadata (9.0 kB)\r\n",
      "Collecting autoray>=0.6.11 (from pennylane>=0.37->pennylane-lightning-gpu)\r\n",
      "  Downloading autoray-0.7.1-py3-none-any.whl.metadata (5.8 kB)\r\n",
      "Requirement already satisfied: cachetools in /usr/local/lib/python3.11/dist-packages (from pennylane>=0.37->pennylane-lightning-gpu) (5.5.2)\r\n",
      "Requirement already satisfied: requests in /usr/local/lib/python3.11/dist-packages (from pennylane>=0.37->pennylane-lightning-gpu) (2.32.3)\r\n",
      "Requirement already satisfied: typing-extensions in /usr/local/lib/python3.11/dist-packages (from pennylane>=0.37->pennylane-lightning-gpu) (4.13.1)\r\n",
      "Requirement already satisfied: packaging in /usr/local/lib/python3.11/dist-packages (from pennylane>=0.37->pennylane-lightning-gpu) (24.2)\r\n",
      "Collecting diastatic-malt (from pennylane>=0.37->pennylane-lightning-gpu)\r\n",
      "  Downloading diastatic_malt-2.15.2-py3-none-any.whl.metadata (2.6 kB)\r\n",
      "Requirement already satisfied: mkl_fft in /usr/local/lib/python3.11/dist-packages (from numpy<2.1->pennylane>=0.37->pennylane-lightning-gpu) (1.3.8)\r\n",
      "Requirement already satisfied: mkl_random in /usr/local/lib/python3.11/dist-packages (from numpy<2.1->pennylane>=0.37->pennylane-lightning-gpu) (1.2.4)\r\n",
      "Requirement already satisfied: mkl_umath in /usr/local/lib/python3.11/dist-packages (from numpy<2.1->pennylane>=0.37->pennylane-lightning-gpu) (0.1.1)\r\n",
      "Requirement already satisfied: mkl in /usr/local/lib/python3.11/dist-packages (from numpy<2.1->pennylane>=0.37->pennylane-lightning-gpu) (2025.1.0)\r\n",
      "Requirement already satisfied: tbb4py in /usr/local/lib/python3.11/dist-packages (from numpy<2.1->pennylane>=0.37->pennylane-lightning-gpu) (2022.1.0)\r\n",
      "Requirement already satisfied: mkl-service in /usr/local/lib/python3.11/dist-packages (from numpy<2.1->pennylane>=0.37->pennylane-lightning-gpu) (2.4.1)\r\n",
      "Requirement already satisfied: astunparse in /usr/local/lib/python3.11/dist-packages (from diastatic-malt->pennylane>=0.37->pennylane-lightning-gpu) (1.6.3)\r\n",
      "Requirement already satisfied: gast in /usr/local/lib/python3.11/dist-packages (from diastatic-malt->pennylane>=0.37->pennylane-lightning-gpu) (0.6.0)\r\n",
      "Requirement already satisfied: termcolor in /usr/local/lib/python3.11/dist-packages (from diastatic-malt->pennylane>=0.37->pennylane-lightning-gpu) (2.5.0)\r\n",
      "Requirement already satisfied: charset-normalizer<4,>=2 in /usr/local/lib/python3.11/dist-packages (from requests->pennylane>=0.37->pennylane-lightning-gpu) (3.4.1)\r\n",
      "Requirement already satisfied: idna<4,>=2.5 in /usr/local/lib/python3.11/dist-packages (from requests->pennylane>=0.37->pennylane-lightning-gpu) (3.10)\r\n",
      "Requirement already satisfied: urllib3<3,>=1.21.1 in /usr/local/lib/python3.11/dist-packages (from requests->pennylane>=0.37->pennylane-lightning-gpu) (2.3.0)\r\n",
      "Requirement already satisfied: certifi>=2017.4.17 in /usr/local/lib/python3.11/dist-packages (from requests->pennylane>=0.37->pennylane-lightning-gpu) (2025.1.31)\r\n",
      "Requirement already satisfied: wheel<1.0,>=0.23.0 in /usr/local/lib/python3.11/dist-packages (from astunparse->diastatic-malt->pennylane>=0.37->pennylane-lightning-gpu) (0.45.1)\r\n",
      "Requirement already satisfied: six<2.0,>=1.6.1 in /usr/local/lib/python3.11/dist-packages (from astunparse->diastatic-malt->pennylane>=0.37->pennylane-lightning-gpu) (1.17.0)\r\n",
      "Requirement already satisfied: intel-openmp<2026,>=2024 in /usr/local/lib/python3.11/dist-packages (from mkl->numpy<2.1->pennylane>=0.37->pennylane-lightning-gpu) (2024.2.0)\r\n",
      "Requirement already satisfied: tbb==2022.* in /usr/local/lib/python3.11/dist-packages (from mkl->numpy<2.1->pennylane>=0.37->pennylane-lightning-gpu) (2022.1.0)\r\n",
      "Requirement already satisfied: tcmlib==1.* in /usr/local/lib/python3.11/dist-packages (from tbb==2022.*->mkl->numpy<2.1->pennylane>=0.37->pennylane-lightning-gpu) (1.2.0)\r\n",
      "Requirement already satisfied: intel-cmplr-lib-rt in /usr/local/lib/python3.11/dist-packages (from mkl_umath->numpy<2.1->pennylane>=0.37->pennylane-lightning-gpu) (2024.2.0)\r\n",
      "Requirement already satisfied: intel-cmplr-lib-ur==2024.2.0 in /usr/local/lib/python3.11/dist-packages (from intel-openmp<2026,>=2024->mkl->numpy<2.1->pennylane>=0.37->pennylane-lightning-gpu) (2024.2.0)\r\n",
      "Downloading PennyLane_Lightning_GPU-0.40.0-cp311-cp311-manylinux_2_28_x86_64.whl (1.0 MB)\r\n",
      "\u001b[2K   \u001b[90m━━━━━━━━━━━━━━━━━━━━━━━━━━━━━━━━━━━━━━━━\u001b[0m \u001b[32m1.0/1.0 MB\u001b[0m \u001b[31m19.7 MB/s\u001b[0m eta \u001b[36m0:00:00\u001b[0m\r\n",
      "\u001b[?25hDownloading PennyLane_Lightning-0.40.0-cp311-cp311-manylinux_2_28_x86_64.whl (2.4 MB)\r\n",
      "\u001b[2K   \u001b[90m━━━━━━━━━━━━━━━━━━━━━━━━━━━━━━━━━━━━━━━━\u001b[0m \u001b[32m2.4/2.4 MB\u001b[0m \u001b[31m63.4 MB/s\u001b[0m eta \u001b[36m0:00:00\u001b[0m\r\n",
      "\u001b[?25hDownloading PennyLane-0.40.0-py3-none-any.whl (2.0 MB)\r\n",
      "\u001b[2K   \u001b[90m━━━━━━━━━━━━━━━━━━━━━━━━━━━━━━━━━━━━━━━━\u001b[0m \u001b[32m2.0/2.0 MB\u001b[0m \u001b[31m78.0 MB/s\u001b[0m eta \u001b[36m0:00:00\u001b[0m\r\n",
      "\u001b[?25hDownloading scipy_openblas32-0.3.29.0.0-py3-none-manylinux_2_17_x86_64.manylinux2014_x86_64.whl (8.6 MB)\r\n",
      "\u001b[2K   \u001b[90m━━━━━━━━━━━━━━━━━━━━━━━━━━━━━━━━━━━━━━━━\u001b[0m \u001b[32m8.6/8.6 MB\u001b[0m \u001b[31m99.9 MB/s\u001b[0m eta \u001b[36m0:00:00\u001b[0m\r\n",
      "\u001b[?25hDownloading custatevec_cu12-1.8.0-py3-none-manylinux2014_x86_64.whl (44.3 MB)\r\n",
      "\u001b[2K   \u001b[90m━━━━━━━━━━━━━━━━━━━━━━━━━━━━━━━━━━━━━━━━\u001b[0m \u001b[32m44.3/44.3 MB\u001b[0m \u001b[31m41.2 MB/s\u001b[0m eta \u001b[36m0:00:00\u001b[0m\r\n",
      "\u001b[?25hDownloading autoray-0.7.1-py3-none-any.whl (930 kB)\r\n",
      "\u001b[2K   \u001b[90m━━━━━━━━━━━━━━━━━━━━━━━━━━━━━━━━━━━━━━━━\u001b[0m \u001b[32m930.8/930.8 kB\u001b[0m \u001b[31m56.7 MB/s\u001b[0m eta \u001b[36m0:00:00\u001b[0m\r\n",
      "\u001b[?25hDownloading rustworkx-0.16.0-cp39-abi3-manylinux_2_17_x86_64.manylinux2014_x86_64.whl (2.1 MB)\r\n",
      "\u001b[2K   \u001b[90m━━━━━━━━━━━━━━━━━━━━━━━━━━━━━━━━━━━━━━━━\u001b[0m \u001b[32m2.1/2.1 MB\u001b[0m \u001b[31m75.3 MB/s\u001b[0m eta \u001b[36m0:00:00\u001b[0m\r\n",
      "\u001b[?25hDownloading appdirs-1.4.4-py2.py3-none-any.whl (9.6 kB)\r\n",
      "Downloading diastatic_malt-2.15.2-py3-none-any.whl (167 kB)\r\n",
      "\u001b[2K   \u001b[90m━━━━━━━━━━━━━━━━━━━━━━━━━━━━━━━━━━━━━━━━\u001b[0m \u001b[32m167.9/167.9 kB\u001b[0m \u001b[31m11.7 MB/s\u001b[0m eta \u001b[36m0:00:00\u001b[0m\r\n",
      "\u001b[?25hDownloading tomlkit-0.13.2-py3-none-any.whl (37 kB)\r\n",
      "Installing collected packages: custatevec-cu12, appdirs, tomlkit, scipy-openblas32, autoray, diastatic-malt, rustworkx, pennylane_lightning, pennylane, pennylane-lightning-gpu\r\n",
      "Successfully installed appdirs-1.4.4 autoray-0.7.1 custatevec-cu12-1.8.0 diastatic-malt-2.15.2 pennylane-0.40.0 pennylane-lightning-gpu-0.40.0 pennylane_lightning-0.40.0 rustworkx-0.16.0 scipy-openblas32-0.3.29.0.0 tomlkit-0.13.2\r\n",
      "Requirement already satisfied: torch in /usr/local/lib/python3.11/dist-packages (2.5.1+cu124)\r\n",
      "Requirement already satisfied: filelock in /usr/local/lib/python3.11/dist-packages (from torch) (3.18.0)\r\n",
      "Requirement already satisfied: typing-extensions>=4.8.0 in /usr/local/lib/python3.11/dist-packages (from torch) (4.13.1)\r\n",
      "Requirement already satisfied: networkx in /usr/local/lib/python3.11/dist-packages (from torch) (3.4.2)\r\n",
      "Requirement already satisfied: jinja2 in /usr/local/lib/python3.11/dist-packages (from torch) (3.1.6)\r\n",
      "Requirement already satisfied: fsspec in /usr/local/lib/python3.11/dist-packages (from torch) (2025.3.2)\r\n",
      "Requirement already satisfied: nvidia-cuda-nvrtc-cu12==12.4.127 in /usr/local/lib/python3.11/dist-packages (from torch) (12.4.127)\r\n",
      "Requirement already satisfied: nvidia-cuda-runtime-cu12==12.4.127 in /usr/local/lib/python3.11/dist-packages (from torch) (12.4.127)\r\n",
      "Requirement already satisfied: nvidia-cuda-cupti-cu12==12.4.127 in /usr/local/lib/python3.11/dist-packages (from torch) (12.4.127)\r\n",
      "Collecting nvidia-cudnn-cu12==9.1.0.70 (from torch)\r\n",
      "  Downloading nvidia_cudnn_cu12-9.1.0.70-py3-none-manylinux2014_x86_64.whl.metadata (1.6 kB)\r\n",
      "Collecting nvidia-cublas-cu12==12.4.5.8 (from torch)\r\n",
      "  Downloading nvidia_cublas_cu12-12.4.5.8-py3-none-manylinux2014_x86_64.whl.metadata (1.5 kB)\r\n",
      "Collecting nvidia-cufft-cu12==11.2.1.3 (from torch)\r\n",
      "  Downloading nvidia_cufft_cu12-11.2.1.3-py3-none-manylinux2014_x86_64.whl.metadata (1.5 kB)\r\n",
      "Collecting nvidia-curand-cu12==10.3.5.147 (from torch)\r\n",
      "  Downloading nvidia_curand_cu12-10.3.5.147-py3-none-manylinux2014_x86_64.whl.metadata (1.5 kB)\r\n",
      "Collecting nvidia-cusolver-cu12==11.6.1.9 (from torch)\r\n",
      "  Downloading nvidia_cusolver_cu12-11.6.1.9-py3-none-manylinux2014_x86_64.whl.metadata (1.6 kB)\r\n",
      "Collecting nvidia-cusparse-cu12==12.3.1.170 (from torch)\r\n",
      "  Downloading nvidia_cusparse_cu12-12.3.1.170-py3-none-manylinux2014_x86_64.whl.metadata (1.6 kB)\r\n",
      "Requirement already satisfied: nvidia-nccl-cu12==2.21.5 in /usr/local/lib/python3.11/dist-packages (from torch) (2.21.5)\r\n",
      "Requirement already satisfied: nvidia-nvtx-cu12==12.4.127 in /usr/local/lib/python3.11/dist-packages (from torch) (12.4.127)\r\n",
      "Collecting nvidia-nvjitlink-cu12==12.4.127 (from torch)\r\n",
      "  Downloading nvidia_nvjitlink_cu12-12.4.127-py3-none-manylinux2014_x86_64.whl.metadata (1.5 kB)\r\n",
      "Requirement already satisfied: triton==3.1.0 in /usr/local/lib/python3.11/dist-packages (from torch) (3.1.0)\r\n",
      "Requirement already satisfied: sympy==1.13.1 in /usr/local/lib/python3.11/dist-packages (from torch) (1.13.1)\r\n",
      "Requirement already satisfied: mpmath<1.4,>=1.1.0 in /usr/local/lib/python3.11/dist-packages (from sympy==1.13.1->torch) (1.3.0)\r\n",
      "Requirement already satisfied: MarkupSafe>=2.0 in /usr/local/lib/python3.11/dist-packages (from jinja2->torch) (3.0.2)\r\n",
      "Downloading nvidia_cublas_cu12-12.4.5.8-py3-none-manylinux2014_x86_64.whl (363.4 MB)\r\n",
      "\u001b[2K   \u001b[90m━━━━━━━━━━━━━━━━━━━━━━━━━━━━━━━━━━━━━━━━\u001b[0m \u001b[32m363.4/363.4 MB\u001b[0m \u001b[31m4.6 MB/s\u001b[0m eta \u001b[36m0:00:00\u001b[0m\r\n",
      "\u001b[?25hDownloading nvidia_cudnn_cu12-9.1.0.70-py3-none-manylinux2014_x86_64.whl (664.8 MB)\r\n",
      "\u001b[2K   \u001b[90m━━━━━━━━━━━━━━━━━━━━━━━━━━━━━━━━━━━━━━━━\u001b[0m \u001b[32m664.8/664.8 MB\u001b[0m \u001b[31m2.4 MB/s\u001b[0m eta \u001b[36m0:00:00\u001b[0m\r\n",
      "\u001b[?25hDownloading nvidia_cufft_cu12-11.2.1.3-py3-none-manylinux2014_x86_64.whl (211.5 MB)\r\n",
      "\u001b[2K   \u001b[90m━━━━━━━━━━━━━━━━━━━━━━━━━━━━━━━━━━━━━━━━\u001b[0m \u001b[32m211.5/211.5 MB\u001b[0m \u001b[31m1.8 MB/s\u001b[0m eta \u001b[36m0:00:00\u001b[0m\r\n",
      "\u001b[?25hDownloading nvidia_curand_cu12-10.3.5.147-py3-none-manylinux2014_x86_64.whl (56.3 MB)\r\n",
      "\u001b[2K   \u001b[90m━━━━━━━━━━━━━━━━━━━━━━━━━━━━━━━━━━━━━━━━\u001b[0m \u001b[32m56.3/56.3 MB\u001b[0m \u001b[31m31.6 MB/s\u001b[0m eta \u001b[36m0:00:00\u001b[0m\r\n",
      "\u001b[?25hDownloading nvidia_cusolver_cu12-11.6.1.9-py3-none-manylinux2014_x86_64.whl (127.9 MB)\r\n",
      "\u001b[2K   \u001b[90m━━━━━━━━━━━━━━━━━━━━━━━━━━━━━━━━━━━━━━━━\u001b[0m \u001b[32m127.9/127.9 MB\u001b[0m \u001b[31m13.5 MB/s\u001b[0m eta \u001b[36m0:00:00\u001b[0m\r\n",
      "\u001b[?25hDownloading nvidia_cusparse_cu12-12.3.1.170-py3-none-manylinux2014_x86_64.whl (207.5 MB)\r\n",
      "\u001b[2K   \u001b[90m━━━━━━━━━━━━━━━━━━━━━━━━━━━━━━━━━━━━━━━━\u001b[0m \u001b[32m207.5/207.5 MB\u001b[0m \u001b[31m8.3 MB/s\u001b[0m eta \u001b[36m0:00:00\u001b[0m\r\n",
      "\u001b[?25hDownloading nvidia_nvjitlink_cu12-12.4.127-py3-none-manylinux2014_x86_64.whl (21.1 MB)\r\n",
      "\u001b[2K   \u001b[90m━━━━━━━━━━━━━━━━━━━━━━━━━━━━━━━━━━━━━━━━\u001b[0m \u001b[32m21.1/21.1 MB\u001b[0m \u001b[31m72.8 MB/s\u001b[0m eta \u001b[36m0:00:00\u001b[0m\r\n",
      "\u001b[?25hInstalling collected packages: nvidia-nvjitlink-cu12, nvidia-curand-cu12, nvidia-cufft-cu12, nvidia-cublas-cu12, nvidia-cusparse-cu12, nvidia-cudnn-cu12, nvidia-cusolver-cu12\r\n",
      "  Attempting uninstall: nvidia-nvjitlink-cu12\r\n",
      "    Found existing installation: nvidia-nvjitlink-cu12 12.8.93\r\n",
      "    Uninstalling nvidia-nvjitlink-cu12-12.8.93:\r\n",
      "      Successfully uninstalled nvidia-nvjitlink-cu12-12.8.93\r\n",
      "  Attempting uninstall: nvidia-curand-cu12\r\n",
      "    Found existing installation: nvidia-curand-cu12 10.3.9.90\r\n",
      "    Uninstalling nvidia-curand-cu12-10.3.9.90:\r\n",
      "      Successfully uninstalled nvidia-curand-cu12-10.3.9.90\r\n",
      "  Attempting uninstall: nvidia-cufft-cu12\r\n",
      "    Found existing installation: nvidia-cufft-cu12 11.3.3.83\r\n",
      "    Uninstalling nvidia-cufft-cu12-11.3.3.83:\r\n",
      "      Successfully uninstalled nvidia-cufft-cu12-11.3.3.83\r\n",
      "  Attempting uninstall: nvidia-cublas-cu12\r\n",
      "    Found existing installation: nvidia-cublas-cu12 12.8.4.1\r\n",
      "    Uninstalling nvidia-cublas-cu12-12.8.4.1:\r\n",
      "      Successfully uninstalled nvidia-cublas-cu12-12.8.4.1\r\n",
      "  Attempting uninstall: nvidia-cusparse-cu12\r\n",
      "    Found existing installation: nvidia-cusparse-cu12 12.5.8.93\r\n",
      "    Uninstalling nvidia-cusparse-cu12-12.5.8.93:\r\n",
      "      Successfully uninstalled nvidia-cusparse-cu12-12.5.8.93\r\n",
      "  Attempting uninstall: nvidia-cudnn-cu12\r\n",
      "    Found existing installation: nvidia-cudnn-cu12 9.3.0.75\r\n",
      "    Uninstalling nvidia-cudnn-cu12-9.3.0.75:\r\n",
      "      Successfully uninstalled nvidia-cudnn-cu12-9.3.0.75\r\n",
      "  Attempting uninstall: nvidia-cusolver-cu12\r\n",
      "    Found existing installation: nvidia-cusolver-cu12 11.7.3.90\r\n",
      "    Uninstalling nvidia-cusolver-cu12-11.7.3.90:\r\n",
      "      Successfully uninstalled nvidia-cusolver-cu12-11.7.3.90\r\n",
      "\u001b[31mERROR: pip's dependency resolver does not currently take into account all the packages that are installed. This behaviour is the source of the following dependency conflicts.\r\n",
      "pylibcugraph-cu12 24.12.0 requires pylibraft-cu12==24.12.*, but you have pylibraft-cu12 25.2.0 which is incompatible.\r\n",
      "pylibcugraph-cu12 24.12.0 requires rmm-cu12==24.12.*, but you have rmm-cu12 25.2.0 which is incompatible.\u001b[0m\u001b[31m\r\n",
      "\u001b[0mSuccessfully installed nvidia-cublas-cu12-12.4.5.8 nvidia-cudnn-cu12-9.1.0.70 nvidia-cufft-cu12-11.2.1.3 nvidia-curand-cu12-10.3.5.147 nvidia-cusolver-cu12-11.6.1.9 nvidia-cusparse-cu12-12.3.1.170 nvidia-nvjitlink-cu12-12.4.127\r\n"
     ]
    }
   ],
   "source": [
    "!pip install pennylane-lightning-gpu\n",
    "!pip install torch"
   ]
  },
  {
   "cell_type": "code",
   "execution_count": 2,
   "id": "70abd7c1",
   "metadata": {
    "execution": {
     "iopub.execute_input": "2025-04-10T18:15:30.027799Z",
     "iopub.status.busy": "2025-04-10T18:15:30.027536Z",
     "iopub.status.idle": "2025-04-10T18:15:37.406736Z",
     "shell.execute_reply": "2025-04-10T18:15:37.405838Z"
    },
    "papermill": {
     "duration": 7.403108,
     "end_time": "2025-04-10T18:15:37.408072",
     "exception": false,
     "start_time": "2025-04-10T18:15:30.004964",
     "status": "completed"
    },
    "tags": []
   },
   "outputs": [
    {
     "name": "stdout",
     "output_type": "stream",
     "text": [
      "0.925982538696557\n",
      "True\n",
      "Size of Train_set :  (455, 8)\n",
      "Size of Test_set :  (114, 8)\n"
     ]
    }
   ],
   "source": [
    "import numpy as np\n",
    "from sklearn.datasets import load_breast_cancer,load_wine\n",
    "from sklearn.model_selection import train_test_split\n",
    "from sklearn.preprocessing import StandardScaler\n",
    "from sklearn.decomposition import PCA\n",
    "from sklearn.svm import SVC\n",
    "import torch\n",
    "import pandas as pd\n",
    "import time\n",
    "import matplotlib.pyplot as plt\n",
    "import seaborn as sns\n",
    "# ------------------------------\n",
    "# 1. Load and preprocess the data\n",
    "# ------------------------------\n",
    "# Load the UCI Breast Cancer (WDBC) dataset\n",
    "data = load_breast_cancer()\n",
    "X = data.data   # 30 features\n",
    "y = data.target # 0 for malignant, 1 for benign\n",
    "\n",
    "X_Scaled=StandardScaler().fit_transform(X)\n",
    "df=pd.DataFrame(X_Scaled,columns=data.feature_names)\n",
    "# Reduce to 4 features using PCA (to keep the quantum circuit manageable)\n",
    "pca = PCA(n_components=8)\n",
    "X_reduced = pca.fit_transform(X_Scaled)\n",
    "\n",
    "print(pca.explained_variance_ratio_.sum())\n",
    "\n",
    "# Split into training and testing sets\n",
    "X_train, X_test, y_train, y_test = train_test_split(X_reduced,y, test_size=0.2, random_state=42)\n",
    "print(torch.cuda.is_available())\n",
    "print(\"Size of Train_set : \",X_train.shape)\n",
    "print(\"Size of Test_set : \",X_test.shape)"
   ]
  },
  {
   "cell_type": "code",
   "execution_count": 3,
   "id": "6fb9a532",
   "metadata": {
    "execution": {
     "iopub.execute_input": "2025-04-10T18:15:37.454382Z",
     "iopub.status.busy": "2025-04-10T18:15:37.454028Z",
     "iopub.status.idle": "2025-04-10T18:15:37.489237Z",
     "shell.execute_reply": "2025-04-10T18:15:37.488340Z"
    },
    "papermill": {
     "duration": 0.059557,
     "end_time": "2025-04-10T18:15:37.490413",
     "exception": false,
     "start_time": "2025-04-10T18:15:37.430856",
     "status": "completed"
    },
    "tags": []
   },
   "outputs": [
    {
     "name": "stdout",
     "output_type": "stream",
     "text": [
      "Total CUDA GPUs PyTorch can see: 2\n",
      "Device 0: Tesla T4\n",
      "Device 1: Tesla T4\n"
     ]
    }
   ],
   "source": [
    "import torch\n",
    "\n",
    "print(\"Total CUDA GPUs PyTorch can see:\", torch.cuda.device_count())\n",
    "for i in range(torch.cuda.device_count()):\n",
    "    print(f\"Device {i}: {torch.cuda.get_device_name(i)}\")"
   ]
  },
  {
   "cell_type": "code",
   "execution_count": 4,
   "id": "c733bb53",
   "metadata": {
    "execution": {
     "iopub.execute_input": "2025-04-10T18:15:37.535095Z",
     "iopub.status.busy": "2025-04-10T18:15:37.534864Z",
     "iopub.status.idle": "2025-04-10T18:15:37.602220Z",
     "shell.execute_reply": "2025-04-10T18:15:37.601628Z"
    },
    "papermill": {
     "duration": 0.090786,
     "end_time": "2025-04-10T18:15:37.603237",
     "exception": false,
     "start_time": "2025-04-10T18:15:37.512451",
     "status": "completed"
    },
    "tags": []
   },
   "outputs": [
    {
     "name": "stdout",
     "output_type": "stream",
     "text": [
      "Classical Kernel SVM Accuracy: 98.25%\n",
      "Total Time Taken by Classical Kernel:0.0625147819519043\n",
      "<class 'torch.device'>\n"
     ]
    }
   ],
   "source": [
    "svm = SVC(kernel='linear')\n",
    "st=time.time()\n",
    "svm.fit(X_train, y_train)\n",
    "et=time.time()\n",
    "y_pred_svm = svm.predict(X_test)\n",
    "accuracy_svm = np.mean(y_pred_svm == y_test) * 100\n",
    "print(f\"Classical Kernel SVM Accuracy: {accuracy_svm:.2f}%\")\n",
    "print(f\"Total Time Taken by Classical Kernel:{et-st}\")\n",
    "print(torch.device)"
   ]
  },
  {
   "cell_type": "code",
   "execution_count": 5,
   "id": "9de0e49b",
   "metadata": {
    "execution": {
     "iopub.execute_input": "2025-04-10T18:15:37.650402Z",
     "iopub.status.busy": "2025-04-10T18:15:37.650187Z",
     "iopub.status.idle": "2025-04-10T18:15:37.653852Z",
     "shell.execute_reply": "2025-04-10T18:15:37.653322Z"
    },
    "papermill": {
     "duration": 0.028404,
     "end_time": "2025-04-10T18:15:37.654952",
     "exception": false,
     "start_time": "2025-04-10T18:15:37.626548",
     "status": "completed"
    },
    "tags": []
   },
   "outputs": [],
   "source": [
    "# # Multiprocessing using pennylane whereby using multiple gpus per process \n",
    "# import pennylane as qml\n",
    "# import multiprocessing as mp\n",
    "# import numpy as np\n",
    "# import os\n",
    "# from sklearn.svm import SVC\n",
    "# from sklearn.metrics import accuracy_score\n",
    "\n",
    "# NUM_QUBITS = 7\n",
    "# NUM_GPUS = 2\n",
    "# NUM_LAYERS = 2\n",
    "\n",
    "# def make_device(gpu_id):\n",
    "#     os.environ[\"CUDA_VISIBLE_DEVICES\"] = str(gpu_id)\n",
    "#     return qml.device(\"lightning.gpu\", wires=NUM_QUBITS)\n",
    "\n",
    "# def quantum_kernel_element(x1, x2, dev, weights):\n",
    "#     @qml.qnode(dev)\n",
    "#     def circuit(weights):  # <- pass weights as an argument\n",
    "#         qaoa_feature_map(x1, weights)\n",
    "#         qml.adjoint(qaoa_feature_map)(x2, weights)\n",
    "#         return qml.probs(wires=range(NUM_QUBITS))\n",
    "    \n",
    "#     return circuit(weights)[0].item()\n",
    "\n",
    "# def compute_rows(start_idx, end_idx, X1, X2, gpu_id, return_dict, weights):\n",
    "#     dev = make_device(gpu_id)\n",
    "#     partial_kernel = np.zeros((end_idx - start_idx, len(X2)))\n",
    "#     for i_local, i in enumerate(range(start_idx, end_idx)):\n",
    "#         for j in range(len(X2)):\n",
    "#             partial_kernel[i_local, j] = quantum_kernel_element(X1[i], X2[j], dev, weights)\n",
    "#     return_dict[gpu_id] = (start_idx, end_idx, partial_kernel)\n",
    "\n",
    "# def compute_kernel_matrix(X1, X2, weights, num_gpus=2):\n",
    "#     n = len(X1)\n",
    "#     chunk_size = n // num_gpus\n",
    "#     manager = mp.Manager()\n",
    "#     return_dict = manager.dict()\n",
    "#     processes = []\n",
    "\n",
    "#     mp.set_start_method('spawn', force=True)\n",
    "\n",
    "#     for gpu_id in range(num_gpus):\n",
    "#         start = gpu_id * chunk_size\n",
    "#         end = n if gpu_id == num_gpus - 1 else (gpu_id + 1) * chunk_size\n",
    "#         p = mp.Process(target=compute_rows, args=(start, end, X1, X2, gpu_id, return_dict, weights))\n",
    "#         p.start()\n",
    "#         processes.append(p)\n",
    "\n",
    "#     for p in processes:\n",
    "#         p.join()\n",
    "\n",
    "#     # Assemble final kernel matrix (X1 × X2)\n",
    "#     K = np.zeros((n, len(X2)))\n",
    "#     for gpu_id in return_dict.keys():\n",
    "#         start, end, chunk = return_dict[gpu_id]\n",
    "#         K[start:end, :] = chunk\n",
    "#     return K"
   ]
  },
  {
   "cell_type": "code",
   "execution_count": 6,
   "id": "ab62f46e",
   "metadata": {
    "execution": {
     "iopub.execute_input": "2025-04-10T18:15:37.747766Z",
     "iopub.status.busy": "2025-04-10T18:15:37.746974Z",
     "iopub.status.idle": "2025-04-10T18:15:37.750396Z",
     "shell.execute_reply": "2025-04-10T18:15:37.749879Z"
    },
    "papermill": {
     "duration": 0.074343,
     "end_time": "2025-04-10T18:15:37.751470",
     "exception": false,
     "start_time": "2025-04-10T18:15:37.677127",
     "status": "completed"
    },
    "tags": []
   },
   "outputs": [],
   "source": [
    "# opt = qml.GradientDescentOptimizer(stepsize=0.1)\n",
    "# weights = np.random.uniform(low=0, high=2*np.pi, size=(NUM_LAYERS, NUM_QUBITS))  # shape for QAOAEmbedding\n",
    "\n",
    "# for i in range(30):\n",
    "#     weights = opt.step(cost, weights)\n",
    "#     acc = -cost(weights)\n",
    "#     print(f\"Step {i+1}: Training accuracy = {acc:.4f}\")"
   ]
  },
  {
   "cell_type": "code",
   "execution_count": 7,
   "id": "6afc57c5",
   "metadata": {
    "execution": {
     "iopub.execute_input": "2025-04-10T18:15:37.797222Z",
     "iopub.status.busy": "2025-04-10T18:15:37.797017Z",
     "iopub.status.idle": "2025-04-10T18:26:03.810131Z",
     "shell.execute_reply": "2025-04-10T18:26:03.809301Z"
    },
    "papermill": {
     "duration": 626.059576,
     "end_time": "2025-04-10T18:26:03.833904",
     "exception": false,
     "start_time": "2025-04-10T18:15:37.774328",
     "status": "completed"
    },
    "tags": []
   },
   "outputs": [
    {
     "name": "stdout",
     "output_type": "stream",
     "text": [
      "Computing training kernel matrix...\n",
      "Computing test kernel matrix...\n",
      "Training accuracy with angle feature map: 0.9912\n",
      "Test accuracy with angle feature map: 0.9561\n"
     ]
    }
   ],
   "source": [
    "import pennylane as qml\n",
    "import multiprocessing as mp\n",
    "import numpy as np\n",
    "import os\n",
    "from sklearn.svm import SVC\n",
    "from sklearn.metrics import accuracy_score\n",
    "\n",
    "NUM_QUBITS = 8\n",
    "\n",
    "# Define feature map options\n",
    "def angle_feature_map(x, wires):\n",
    "    \"\"\"Angle Embedding feature map with additional rotations\"\"\"\n",
    "    x = np.pi * (x - min(x)) / (max(x) - min(x) + 1e-6)\n",
    "    qml.AngleEmbedding(x, wires=wires, rotation='Z')\n",
    "    for i in range(NUM_QUBITS):\n",
    "        qml.RY(x[i], wires=i)\n",
    "\n",
    "def amplitude_feature_map(x, wires):\n",
    "    \"\"\"Amplitude Embedding feature map with padding and normalization\"\"\"\n",
    "    x = x / np.sqrt(np.sum(np.abs(x)**2) + 1e-6)\n",
    "    qml.AmplitudeEmbedding(x, wires=wires, pad_with=0.0, normalize=True)\n",
    "    for i in range(NUM_QUBITS):\n",
    "        qml.RZ(weights[i], wires=i)\n",
    "\n",
    "FEATURE_MAPS = {\n",
    "    'angle': angle_feature_map,\n",
    "    'amplitude': amplitude_feature_map\n",
    "}\n",
    "\n",
    "def make_device():\n",
    "    \"\"\"Create a single GPU device\"\"\"\n",
    "    return qml.device(\"lightning.gpu\", wires=NUM_QUBITS)\n",
    "\n",
    "def quantum_kernel_element(x1, x2, dev, weights, feature_map_type='angle'):\n",
    "    feature_map = FEATURE_MAPS[feature_map_type]\n",
    "    \n",
    "    @qml.qnode(dev)\n",
    "    def circuit(weights):\n",
    "        feature_map(x1, wires=range(NUM_QUBITS))\n",
    "        qml.adjoint(feature_map)(x2, wires=range(NUM_QUBITS))\n",
    "        return qml.probs(wires=range(NUM_QUBITS))\n",
    "    \n",
    "    return circuit(weights)[0].item()\n",
    "\n",
    "def compute_kernel_matrix(X1, X2, weights, feature_map_type='angle'):\n",
    "    \"\"\"Compute kernel matrix using a single GPU\"\"\"\n",
    "    dev = make_device()\n",
    "    n1, n2 = len(X1), len(X2)\n",
    "    K = np.zeros((n1, n2))\n",
    "    \n",
    "    for i in range(n1):\n",
    "        for j in range(n2):\n",
    "            K[i, j] = quantum_kernel_element(X1[i], X2[j], dev, weights, feature_map_type)\n",
    "    \n",
    "    return K\n",
    "\n",
    "\n",
    "feature_map_type = 'angle'\n",
    "weights = np.random.uniform(low=0, high=2*np.pi, size=(NUM_QUBITS,))\n",
    "\n",
    "print(\"Computing training kernel matrix...\")\n",
    "K_train = compute_kernel_matrix(X_train, X_train, weights, feature_map_type)\n",
    "print(\"Computing test kernel matrix...\")\n",
    "K_test = compute_kernel_matrix(X_test, X_train, weights, feature_map_type)\n",
    "\n",
    "# clf = SVC(kernel='precomputed', C=1.0, class_weight='balanced')\n",
    "clf = SVC(kernel='precomputed', C=1.0, class_weight='balanced')\n",
    "clf.fit(K_train, y_train)\n",
    "\n",
    "train_acc = accuracy_score(y_train, clf.predict(K_train))\n",
    "test_acc = accuracy_score(y_test, clf.predict(K_test))\n",
    "    \n",
    "print(f\"Training accuracy with {feature_map_type} feature map: {train_acc:.4f}\")\n",
    "print(f\"Test accuracy with {feature_map_type} feature map: {test_acc:.4f}\")"
   ]
  },
  {
   "cell_type": "code",
   "execution_count": 8,
   "id": "3bc686d6",
   "metadata": {
    "execution": {
     "iopub.execute_input": "2025-04-10T18:26:03.880822Z",
     "iopub.status.busy": "2025-04-10T18:26:03.880299Z",
     "iopub.status.idle": "2025-04-10T18:26:03.889360Z",
     "shell.execute_reply": "2025-04-10T18:26:03.888738Z"
    },
    "papermill": {
     "duration": 0.033161,
     "end_time": "2025-04-10T18:26:03.890381",
     "exception": false,
     "start_time": "2025-04-10T18:26:03.857220",
     "status": "completed"
    },
    "tags": []
   },
   "outputs": [
    {
     "name": "stdout",
     "output_type": "stream",
     "text": [
      "Training accuracy with angle feature map: 0.9912\n",
      "Test accuracy with angle feature map: 0.9561\n"
     ]
    }
   ],
   "source": [
    "clf = SVC(kernel='precomputed')\n",
    "clf.fit(K_train, y_train)\n",
    "\n",
    "train_acc = accuracy_score(y_train, clf.predict(K_train))\n",
    "test_acc = accuracy_score(y_test, clf.predict(K_test))\n",
    "    \n",
    "print(f\"Training accuracy with {feature_map_type} feature map: {train_acc:.4f}\")\n",
    "print(f\"Test accuracy with {feature_map_type} feature map: {test_acc:.4f}\")"
   ]
  },
  {
   "cell_type": "code",
   "execution_count": 9,
   "id": "4c75bdec",
   "metadata": {
    "execution": {
     "iopub.execute_input": "2025-04-10T18:26:03.935748Z",
     "iopub.status.busy": "2025-04-10T18:26:03.935568Z",
     "iopub.status.idle": "2025-04-10T18:26:03.955343Z",
     "shell.execute_reply": "2025-04-10T18:26:03.954572Z"
    },
    "papermill": {
     "duration": 0.0435,
     "end_time": "2025-04-10T18:26:03.956412",
     "exception": false,
     "start_time": "2025-04-10T18:26:03.912912",
     "status": "completed"
    },
    "tags": []
   },
   "outputs": [
    {
     "name": "stdout",
     "output_type": "stream",
     "text": [
      "Cross-validation scores: 0.9582 ± 0.0264\n"
     ]
    }
   ],
   "source": [
    "from sklearn.model_selection import cross_val_score\n",
    "scores = cross_val_score(clf, K_train, y_train, cv=5)\n",
    "print(f\"Cross-validation scores: {scores.mean():.4f} ± {scores.std():.4f}\")"
   ]
  },
  {
   "cell_type": "code",
   "execution_count": 10,
   "id": "5013750a",
   "metadata": {
    "execution": {
     "iopub.execute_input": "2025-04-10T18:26:04.001696Z",
     "iopub.status.busy": "2025-04-10T18:26:04.001494Z",
     "iopub.status.idle": "2025-04-10T18:26:04.009135Z",
     "shell.execute_reply": "2025-04-10T18:26:04.008566Z"
    },
    "papermill": {
     "duration": 0.031335,
     "end_time": "2025-04-10T18:26:04.010160",
     "exception": false,
     "start_time": "2025-04-10T18:26:03.978825",
     "status": "completed"
    },
    "tags": []
   },
   "outputs": [
    {
     "name": "stdout",
     "output_type": "stream",
     "text": [
      "Classical RBF Test Accuracy: 0.9649\n"
     ]
    }
   ],
   "source": [
    "clf_classical = SVC(kernel='linear', C=1.0, class_weight='balanced')\n",
    "clf_classical.fit(X_train, y_train)\n",
    "print(f\"Classical RBF Test Accuracy: {clf_classical.score(X_test, y_test):.4f}\")"
   ]
  },
  {
   "cell_type": "code",
   "execution_count": 11,
   "id": "3e89b6eb",
   "metadata": {
    "execution": {
     "iopub.execute_input": "2025-04-10T18:26:04.055610Z",
     "iopub.status.busy": "2025-04-10T18:26:04.055421Z",
     "iopub.status.idle": "2025-04-10T18:51:14.550777Z",
     "shell.execute_reply": "2025-04-10T18:51:14.549975Z"
    },
    "papermill": {
     "duration": 1510.573176,
     "end_time": "2025-04-10T18:51:14.605500",
     "exception": false,
     "start_time": "2025-04-10T18:26:04.032324",
     "status": "completed"
    },
    "tags": []
   },
   "outputs": [
    {
     "name": "stdout",
     "output_type": "stream",
     "text": [
      "Computing training kernel matrix...\n",
      "Computing test kernel matrix...\n",
      "Training accuracy with amplitude: 0.6857\n",
      "Test accuracy with amplitude: 0.6053\n"
     ]
    }
   ],
   "source": [
    "import pennylane as qml\n",
    "import numpy as np\n",
    "from sklearn.svm import SVC\n",
    "from sklearn.metrics import accuracy_score\n",
    "from sklearn.datasets import load_breast_cancer\n",
    "from sklearn.model_selection import train_test_split\n",
    "from sklearn.preprocessing import StandardScaler\n",
    "from sklearn.decomposition import PCA\n",
    "\n",
    "NUM_QUBITS = 4  # Reduced for speed\n",
    "\n",
    "# Define feature maps (weights removed)\n",
    "def angle_feature_map(x, wires):\n",
    "    qml.AngleEmbedding(x, wires=wires, rotation='Z')\n",
    "\n",
    "def amplitude_feature_map(x, wires):\n",
    "    x = x / np.sqrt(np.sum(np.abs(x)**2) + 1e-6)\n",
    "    qml.AmplitudeEmbedding(x, wires=wires, pad_with=0.0, normalize=True)\n",
    "\n",
    "FEATURE_MAPS = {\n",
    "    'angle': angle_feature_map,\n",
    "    'amplitude': amplitude_feature_map\n",
    "}\n",
    "\n",
    "def make_device():\n",
    "    return qml.device(\"lightning.gpu\", wires=NUM_QUBITS)  # CPU for simplicity\n",
    "\n",
    "def quantum_kernel_element(x1, x2, dev, feature_map_type='angle'):\n",
    "    feature_map = FEATURE_MAPS[feature_map_type]\n",
    "    \n",
    "    @qml.qnode(dev)\n",
    "    def circuit():\n",
    "        feature_map(x1, wires=range(NUM_QUBITS))\n",
    "        qml.adjoint(lambda wires: feature_map(x2, wires))(wires=range(NUM_QUBITS))\n",
    "        return qml.probs(wires=range(NUM_QUBITS))\n",
    "    \n",
    "    return circuit()[0].item()\n",
    "\n",
    "def compute_kernel_matrix(X1, X2, feature_map_type='angle'):\n",
    "    dev = make_device()\n",
    "    n1, n2 = len(X1), len(X2)\n",
    "    K = np.zeros((n1, n2))\n",
    "    for i in range(n1):\n",
    "        for j in range(n2):\n",
    "            K[i, j] = quantum_kernel_element(X1[i], X2[j], dev, feature_map_type)\n",
    "    return K\n",
    "\n",
    "def main():\n",
    "    data = load_breast_cancer()\n",
    "    X = data.data\n",
    "    y = data.target\n",
    "    X_scaled = StandardScaler().fit_transform(X)\n",
    "    pca = PCA(n_components=NUM_QUBITS)\n",
    "    X_reduced = pca.fit_transform(X_scaled)\n",
    "\n",
    "    X_train, X_test, y_train, y_test = train_test_split(\n",
    "        X_reduced, y, test_size=0.2, random_state=42\n",
    "    )\n",
    "\n",
    "    feature_map_type = 'amplitude'  # Faster with simpler map\n",
    "\n",
    "    print(\"Computing training kernel matrix...\")\n",
    "    K_train = compute_kernel_matrix(X_train, X_train, feature_map_type)\n",
    "    print(\"Computing test kernel matrix...\")\n",
    "    K_test = compute_kernel_matrix(X_test, X_train, feature_map_type)\n",
    "\n",
    "    clf = SVC(kernel='precomputed', C=1.0, class_weight='balanced')\n",
    "    clf.fit(K_train, y_train)\n",
    "\n",
    "    train_acc = accuracy_score(y_train, clf.predict(K_train))\n",
    "    test_acc = accuracy_score(y_test, clf.predict(K_test))\n",
    "    \n",
    "    print(f\"Training accuracy with {feature_map_type}: {train_acc:.4f}\")\n",
    "    print(f\"Test accuracy with {feature_map_type}: {test_acc:.4f}\")\n",
    "\n",
    "if __name__ == '__main__':\n",
    "    main()"
   ]
  }
 ],
 "metadata": {
  "kaggle": {
   "accelerator": "nvidiaTeslaT4",
   "dataSources": [],
   "dockerImageVersionId": 31011,
   "isGpuEnabled": true,
   "isInternetEnabled": true,
   "language": "python",
   "sourceType": "notebook"
  },
  "kernelspec": {
   "display_name": "Python 3",
   "language": "python",
   "name": "python3"
  },
  "language_info": {
   "codemirror_mode": {
    "name": "ipython",
    "version": 3
   },
   "file_extension": ".py",
   "mimetype": "text/x-python",
   "name": "python",
   "nbconvert_exporter": "python",
   "pygments_lexer": "ipython3",
   "version": "3.11.11"
  },
  "papermill": {
   "default_parameters": {},
   "duration": 2228.685592,
   "end_time": "2025-04-10T18:51:17.358254",
   "environment_variables": {},
   "exception": null,
   "input_path": "__notebook__.ipynb",
   "output_path": "__notebook__.ipynb",
   "parameters": {},
   "start_time": "2025-04-10T18:14:08.672662",
   "version": "2.6.0"
  }
 },
 "nbformat": 4,
 "nbformat_minor": 5
}
